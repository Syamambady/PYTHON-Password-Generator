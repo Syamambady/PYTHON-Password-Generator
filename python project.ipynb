{
 "cells": [
  {
   "cell_type": "code",
   "execution_count": 2,
   "id": "04db75e1",
   "metadata": {},
   "outputs": [
    {
     "name": "stdout",
     "output_type": "stream",
     "text": [
      "Set your password: Syam@123456\n",
      "Enter the password: syam@123456\n",
      "Incorrect password. Please try again.\n",
      "Enter the password: Syam@123456\n",
      "Password accepted!\n"
     ]
    }
   ],
   "source": [
    "def main():\n",
    "    # Ask the user to set the password\n",
    "    password = input(\"Set your password: \")\n",
    "\n",
    "    # Ask the user to enter the password\n",
    "    while True:\n",
    "        user_password = input(\"Enter the password: \")\n",
    "\n",
    "        # Check if the entered password matches the initially set password\n",
    "        if user_password == password:\n",
    "            print(\"Password accepted!\")\n",
    "            break  # Exit the loop if the password is correct\n",
    "        else:\n",
    "            print(\"Incorrect password. Please try again.\")\n",
    "\n",
    "if __name__ == \"__main__\":\n",
    "    main()\n"
   ]
  },
  {
   "cell_type": "code",
   "execution_count": null,
   "id": "8adc4ffa",
   "metadata": {},
   "outputs": [],
   "source": []
  }
 ],
 "metadata": {
  "kernelspec": {
   "display_name": "Python 3 (ipykernel)",
   "language": "python",
   "name": "python3"
  },
  "language_info": {
   "codemirror_mode": {
    "name": "ipython",
    "version": 3
   },
   "file_extension": ".py",
   "mimetype": "text/x-python",
   "name": "python",
   "nbconvert_exporter": "python",
   "pygments_lexer": "ipython3",
   "version": "3.11.5"
  }
 },
 "nbformat": 4,
 "nbformat_minor": 5
}
